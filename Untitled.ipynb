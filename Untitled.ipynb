{
 "cells": [
  {
   "cell_type": "code",
   "execution_count": 1,
   "id": "ae6058c0-f1cf-4563-821f-e642ff1905d0",
   "metadata": {},
   "outputs": [],
   "source": [
    "import pandas as pd"
   ]
  },
  {
   "cell_type": "code",
   "execution_count": 5,
   "id": "e3ec46e1-9b13-4358-8e82-89b84a785502",
   "metadata": {},
   "outputs": [
    {
     "name": "stdout",
     "output_type": "stream",
     "text": [
      "                                      Operation_Country  OP budget (USD)  \\\n",
      "Region                                                                     \n",
      "Africa Overall                                    Total              NaN   \n",
      "Africa Overall           Central Africa and Great Lakes              NaN   \n",
      "Asia and the Pacific                              Total       1014984854   \n",
      "Asia and the Pacific                        Afghanistan        230310283   \n",
      "Asia and the Pacific            Australia MCO/Australia          5818004   \n",
      "...                                                 ...              ...   \n",
      "West and Central Africa              Senegal MCO/Guinea           250599   \n",
      "West and Central Africa             Senegal MCO/Overall              NaN   \n",
      "West and Central Africa             Senegal MCO/Senegal         17964259   \n",
      "West and Central Africa                Senegal MCO/Togo          5350416   \n",
      "West and Central Africa             West Africa Overall              NaN   \n",
      "\n",
      "                         OL budget (USD)  Funds available  OP Gap/Surplus  \\\n",
      "Region                                                                      \n",
      "Africa Overall                       NaN            48551           48551   \n",
      "Africa Overall                       NaN            48551           48551   \n",
      "Asia and the Pacific           571982744        459981873      -555002981   \n",
      "Asia and the Pacific           170701206        108155141      -122155142   \n",
      "Asia and the Pacific             3864151            93897        -5724107   \n",
      "...                                  ...              ...             ...   \n",
      "West and Central Africa           230501            17503         -233096   \n",
      "West and Central Africa              NaN           149801          149801   \n",
      "West and Central Africa          4030532          3219561       -14744698   \n",
      "West and Central Africa          5248817          3000000        -2350416   \n",
      "West and Central Africa              NaN         49975805       -20783466   \n",
      "\n",
      "                         OL Gap/Surplus  \n",
      "Region                                   \n",
      "Africa Overall                    48551  \n",
      "Africa Overall                    48551  \n",
      "Asia and the Pacific         -112000871  \n",
      "Asia and the Pacific          -62546065  \n",
      "Asia and the Pacific           -3770254  \n",
      "...                                 ...  \n",
      "West and Central Africa         -212998  \n",
      "West and Central Africa          149801  \n",
      "West and Central Africa         -810971  \n",
      "West and Central Africa        -2248817  \n",
      "West and Central Africa        23169110  \n",
      "\n",
      "[229 rows x 6 columns]\n"
     ]
    }
   ],
   "source": [
    "funding = pd.read_excel(\"datasets/funding_overview.xlsx\", sheet_name = 0, index_col = 0)\n",
    "\n",
    "pd.options.display.float_format = '{:.0f}'.format\n",
    "print(funding)"
   ]
  },
  {
   "cell_type": "code",
   "execution_count": null,
   "id": "0d2b6187-6a9f-4484-8997-774d2c5001b8",
   "metadata": {},
   "outputs": [],
   "source": []
  }
 ],
 "metadata": {
  "kernelspec": {
   "display_name": "Python 3 (ipykernel)",
   "language": "python",
   "name": "python3"
  },
  "language_info": {
   "codemirror_mode": {
    "name": "ipython",
    "version": 3
   },
   "file_extension": ".py",
   "mimetype": "text/x-python",
   "name": "python",
   "nbconvert_exporter": "python",
   "pygments_lexer": "ipython3",
   "version": "3.12.4"
  }
 },
 "nbformat": 4,
 "nbformat_minor": 5
}
