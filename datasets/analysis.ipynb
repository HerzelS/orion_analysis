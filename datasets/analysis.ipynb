{
 "cells": [
  {
   "cell_type": "code",
   "execution_count": 1,
   "metadata": {},
   "outputs": [],
   "source": [
    "import pandas as pd"
   ]
  },
  {
   "cell_type": "code",
   "execution_count": 7,
   "metadata": {},
   "outputs": [
    {
     "name": "stdout",
     "output_type": "stream",
     "text": [
      "                                      Operation_Country  OP budget (USD)  \\\n",
      "Region                                                                     \n",
      "Africa Overall                                    Total              NaN   \n",
      "Africa Overall           Central Africa and Great Lakes              NaN   \n",
      "Asia and the Pacific                              Total       1014984854   \n",
      "Asia and the Pacific                        Afghanistan        230310283   \n",
      "Asia and the Pacific            Australia MCO/Australia          5818004   \n",
      "...                                                 ...              ...   \n",
      "West and Central Africa              Senegal MCO/Guinea           250599   \n",
      "West and Central Africa             Senegal MCO/Overall              NaN   \n",
      "West and Central Africa             Senegal MCO/Senegal         17964259   \n",
      "West and Central Africa                Senegal MCO/Togo          5350416   \n",
      "West and Central Africa             West Africa Overall              NaN   \n",
      "\n",
      "                         OL budget (USD)  Funds available  OP Gap/Surplus  \\\n",
      "Region                                                                      \n",
      "Africa Overall                       NaN            48551           48551   \n",
      "Africa Overall                       NaN            48551           48551   \n",
      "Asia and the Pacific           571982744        459981873      -555002981   \n",
      "Asia and the Pacific           170701206        108155141      -122155142   \n",
      "Asia and the Pacific             3864151            93897        -5724107   \n",
      "...                                  ...              ...             ...   \n",
      "West and Central Africa           230501            17503         -233096   \n",
      "West and Central Africa              NaN           149801          149801   \n",
      "West and Central Africa          4030532          3219561       -14744698   \n",
      "West and Central Africa          5248817          3000000        -2350416   \n",
      "West and Central Africa              NaN         49975805       -20783466   \n",
      "\n",
      "                         OL Gap/Surplus  \n",
      "Region                                   \n",
      "Africa Overall                    48551  \n",
      "Africa Overall                    48551  \n",
      "Asia and the Pacific         -112000871  \n",
      "Asia and the Pacific          -62546065  \n",
      "Asia and the Pacific           -3770254  \n",
      "...                                 ...  \n",
      "West and Central Africa         -212998  \n",
      "West and Central Africa          149801  \n",
      "West and Central Africa         -810971  \n",
      "West and Central Africa        -2248817  \n",
      "West and Central Africa        23169110  \n",
      "\n",
      "[229 rows x 6 columns]\n"
     ]
    }
   ],
   "source": [
    "funding = pd.read_excel(\"funding_overview.xlsx\", sheet_name = 0, index_col = 0)\n",
    "\n",
    "pd.options.display.float_format = '{:.0f}'.format\n",
    "print(funding)"
   ]
  },
  {
   "cell_type": "code",
   "execution_count": 5,
   "metadata": {},
   "outputs": [
    {
     "data": {
      "text/plain": [
       "(229, 6)"
      ]
     },
     "execution_count": 5,
     "metadata": {},
     "output_type": "execute_result"
    }
   ],
   "source": [
    "funding.shape"
   ]
  },
  {
   "cell_type": "code",
   "execution_count": 6,
   "metadata": {},
   "outputs": [
    {
     "data": {
      "text/html": [
       "<div>\n",
       "<style scoped>\n",
       "    .dataframe tbody tr th:only-of-type {\n",
       "        vertical-align: middle;\n",
       "    }\n",
       "\n",
       "    .dataframe tbody tr th {\n",
       "        vertical-align: top;\n",
       "    }\n",
       "\n",
       "    .dataframe thead th {\n",
       "        text-align: right;\n",
       "    }\n",
       "</style>\n",
       "<table border=\"1\" class=\"dataframe\">\n",
       "  <thead>\n",
       "    <tr style=\"text-align: right;\">\n",
       "      <th></th>\n",
       "      <th>OP budget (USD)</th>\n",
       "      <th>OL budget (USD)</th>\n",
       "      <th>Funds available</th>\n",
       "      <th>OP Gap/Surplus</th>\n",
       "      <th>OL Gap/Surplus</th>\n",
       "    </tr>\n",
       "  </thead>\n",
       "  <tbody>\n",
       "    <tr>\n",
       "      <th>count</th>\n",
       "      <td>1.800000e+02</td>\n",
       "      <td>1.790000e+02</td>\n",
       "      <td>2.080000e+02</td>\n",
       "      <td>2.290000e+02</td>\n",
       "      <td>2.270000e+02</td>\n",
       "    </tr>\n",
       "    <tr>\n",
       "      <th>mean</th>\n",
       "      <td>1.212968e+08</td>\n",
       "      <td>5.678710e+07</td>\n",
       "      <td>4.853288e+07</td>\n",
       "      <td>-5.156918e+07</td>\n",
       "      <td>-4.266854e+05</td>\n",
       "    </tr>\n",
       "    <tr>\n",
       "      <th>std</th>\n",
       "      <td>3.144697e+08</td>\n",
       "      <td>1.489758e+08</td>\n",
       "      <td>1.801998e+08</td>\n",
       "      <td>2.440562e+08</td>\n",
       "      <td>1.570417e+08</td>\n",
       "    </tr>\n",
       "    <tr>\n",
       "      <th>min</th>\n",
       "      <td>2.505990e+05</td>\n",
       "      <td>8.347900e+04</td>\n",
       "      <td>0.000000e+00</td>\n",
       "      <td>-1.615101e+09</td>\n",
       "      <td>-5.915498e+08</td>\n",
       "    </tr>\n",
       "    <tr>\n",
       "      <th>25%</th>\n",
       "      <td>5.230987e+06</td>\n",
       "      <td>3.135300e+06</td>\n",
       "      <td>2.389760e+05</td>\n",
       "      <td>-3.494153e+07</td>\n",
       "      <td>-9.580514e+06</td>\n",
       "    </tr>\n",
       "    <tr>\n",
       "      <th>50%</th>\n",
       "      <td>1.995338e+07</td>\n",
       "      <td>9.182000e+06</td>\n",
       "      <td>2.061029e+06</td>\n",
       "      <td>-7.307146e+06</td>\n",
       "      <td>-2.444994e+06</td>\n",
       "    </tr>\n",
       "    <tr>\n",
       "      <th>75%</th>\n",
       "      <td>7.580415e+07</td>\n",
       "      <td>3.756008e+07</td>\n",
       "      <td>2.249089e+07</td>\n",
       "      <td>-1.482752e+06</td>\n",
       "      <td>3.165410e+03</td>\n",
       "    </tr>\n",
       "    <tr>\n",
       "      <th>max</th>\n",
       "      <td>2.441639e+09</td>\n",
       "      <td>1.045116e+09</td>\n",
       "      <td>1.560571e+09</td>\n",
       "      <td>1.560571e+09</td>\n",
       "      <td>1.560571e+09</td>\n",
       "    </tr>\n",
       "  </tbody>\n",
       "</table>\n",
       "</div>"
      ],
      "text/plain": [
       "       OP budget (USD)  OL budget (USD)  Funds available  OP Gap/Surplus  \\\n",
       "count     1.800000e+02     1.790000e+02     2.080000e+02    2.290000e+02   \n",
       "mean      1.212968e+08     5.678710e+07     4.853288e+07   -5.156918e+07   \n",
       "std       3.144697e+08     1.489758e+08     1.801998e+08    2.440562e+08   \n",
       "min       2.505990e+05     8.347900e+04     0.000000e+00   -1.615101e+09   \n",
       "25%       5.230987e+06     3.135300e+06     2.389760e+05   -3.494153e+07   \n",
       "50%       1.995338e+07     9.182000e+06     2.061029e+06   -7.307146e+06   \n",
       "75%       7.580415e+07     3.756008e+07     2.249089e+07   -1.482752e+06   \n",
       "max       2.441639e+09     1.045116e+09     1.560571e+09    1.560571e+09   \n",
       "\n",
       "       OL Gap/Surplus  \n",
       "count    2.270000e+02  \n",
       "mean    -4.266854e+05  \n",
       "std      1.570417e+08  \n",
       "min     -5.915498e+08  \n",
       "25%     -9.580514e+06  \n",
       "50%     -2.444994e+06  \n",
       "75%      3.165410e+03  \n",
       "max      1.560571e+09  "
      ]
     },
     "execution_count": 6,
     "metadata": {},
     "output_type": "execute_result"
    }
   ],
   "source": [
    "funding.describe()"
   ]
  }
 ],
 "metadata": {
  "kernelspec": {
   "display_name": "Python 3",
   "language": "python",
   "name": "python3"
  },
  "language_info": {
   "codemirror_mode": {
    "name": "ipython",
    "version": 3
   },
   "file_extension": ".py",
   "mimetype": "text/x-python",
   "name": "python",
   "nbconvert_exporter": "python",
   "pygments_lexer": "ipython3",
   "version": "3.11.9"
  }
 },
 "nbformat": 4,
 "nbformat_minor": 2
}
