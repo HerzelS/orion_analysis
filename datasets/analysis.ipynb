{
 "cells": [
  {
   "cell_type": "code",
   "execution_count": 9,
   "metadata": {},
   "outputs": [],
   "source": [
    "import pandas as pd\n",
    "import matplotlib.pyplot as plt"
   ]
  },
  {
   "cell_type": "code",
   "execution_count": 43,
   "metadata": {},
   "outputs": [
    {
     "name": "stdout",
     "output_type": "stream",
     "text": [
      "                      Region               Operation_Country  OP budget (USD)  \\\n",
      "0             Africa Overall                           Total              NaN   \n",
      "1             Africa Overall  Central Africa and Great Lakes              NaN   \n",
      "2       Asia and the Pacific                           Total       1014984854   \n",
      "3       Asia and the Pacific                     Afghanistan        230310283   \n",
      "4       Asia and the Pacific         Australia MCO/Australia          5818004   \n",
      "..                       ...                             ...              ...   \n",
      "224  West and Central Africa              Senegal MCO/Guinea           250599   \n",
      "225  West and Central Africa             Senegal MCO/Overall              NaN   \n",
      "226  West and Central Africa             Senegal MCO/Senegal         17964259   \n",
      "227  West and Central Africa                Senegal MCO/Togo          5350416   \n",
      "228  West and Central Africa             West Africa Overall              NaN   \n",
      "\n",
      "     OL budget (USD)  Funds available  OP Gap/Surplus  OL Gap/Surplus  \n",
      "0                NaN            48551           48551           48551  \n",
      "1                NaN            48551           48551           48551  \n",
      "2          571982744        459981873      -555002981      -112000871  \n",
      "3          170701206        108155141      -122155142       -62546065  \n",
      "4            3864151            93897        -5724107        -3770254  \n",
      "..               ...              ...             ...             ...  \n",
      "224           230501            17503         -233096         -212998  \n",
      "225              NaN           149801          149801          149801  \n",
      "226          4030532          3219561       -14744698         -810971  \n",
      "227          5248817          3000000        -2350416        -2248817  \n",
      "228              NaN         49975805       -20783466        23169110  \n",
      "\n",
      "[229 rows x 7 columns]\n"
     ]
    }
   ],
   "source": [
    "funding = pd.read_excel(\"funding_overview.xlsx\", sheet_name = 0, index_col=False)\n",
    "\n",
    "pd.options.display.float_format = '{:.0f}'.format\n",
    "print(funding)"
   ]
  },
  {
   "cell_type": "code",
   "execution_count": 44,
   "metadata": {},
   "outputs": [
    {
     "data": {
      "text/plain": [
       "(229, 7)"
      ]
     },
     "execution_count": 44,
     "metadata": {},
     "output_type": "execute_result"
    }
   ],
   "source": [
    "funding.shape"
   ]
  },
  {
   "cell_type": "code",
   "execution_count": 45,
   "metadata": {},
   "outputs": [
    {
     "data": {
      "text/html": [
       "<div>\n",
       "<style scoped>\n",
       "    .dataframe tbody tr th:only-of-type {\n",
       "        vertical-align: middle;\n",
       "    }\n",
       "\n",
       "    .dataframe tbody tr th {\n",
       "        vertical-align: top;\n",
       "    }\n",
       "\n",
       "    .dataframe thead th {\n",
       "        text-align: right;\n",
       "    }\n",
       "</style>\n",
       "<table border=\"1\" class=\"dataframe\">\n",
       "  <thead>\n",
       "    <tr style=\"text-align: right;\">\n",
       "      <th></th>\n",
       "      <th>OP budget (USD)</th>\n",
       "      <th>OL budget (USD)</th>\n",
       "      <th>Funds available</th>\n",
       "      <th>OP Gap/Surplus</th>\n",
       "      <th>OL Gap/Surplus</th>\n",
       "    </tr>\n",
       "  </thead>\n",
       "  <tbody>\n",
       "    <tr>\n",
       "      <th>count</th>\n",
       "      <td>180</td>\n",
       "      <td>179</td>\n",
       "      <td>208</td>\n",
       "      <td>229</td>\n",
       "      <td>227</td>\n",
       "    </tr>\n",
       "    <tr>\n",
       "      <th>mean</th>\n",
       "      <td>121296798</td>\n",
       "      <td>56787100</td>\n",
       "      <td>48532885</td>\n",
       "      <td>-51569183</td>\n",
       "      <td>-426685</td>\n",
       "    </tr>\n",
       "    <tr>\n",
       "      <th>std</th>\n",
       "      <td>314469672</td>\n",
       "      <td>148975830</td>\n",
       "      <td>180199790</td>\n",
       "      <td>244056205</td>\n",
       "      <td>157041673</td>\n",
       "    </tr>\n",
       "    <tr>\n",
       "      <th>min</th>\n",
       "      <td>250599</td>\n",
       "      <td>83479</td>\n",
       "      <td>0</td>\n",
       "      <td>-1615100800</td>\n",
       "      <td>-591549790</td>\n",
       "    </tr>\n",
       "    <tr>\n",
       "      <th>25%</th>\n",
       "      <td>5230987</td>\n",
       "      <td>3135300</td>\n",
       "      <td>238976</td>\n",
       "      <td>-34941529</td>\n",
       "      <td>-9580514</td>\n",
       "    </tr>\n",
       "    <tr>\n",
       "      <th>50%</th>\n",
       "      <td>19953378</td>\n",
       "      <td>9182000</td>\n",
       "      <td>2061029</td>\n",
       "      <td>-7307146</td>\n",
       "      <td>-2444994</td>\n",
       "    </tr>\n",
       "    <tr>\n",
       "      <th>75%</th>\n",
       "      <td>75804152</td>\n",
       "      <td>37560084</td>\n",
       "      <td>22490886</td>\n",
       "      <td>-1482752</td>\n",
       "      <td>3165</td>\n",
       "    </tr>\n",
       "    <tr>\n",
       "      <th>max</th>\n",
       "      <td>2441639007</td>\n",
       "      <td>1045115516</td>\n",
       "      <td>1560571191</td>\n",
       "      <td>1560571191</td>\n",
       "      <td>1560571191</td>\n",
       "    </tr>\n",
       "  </tbody>\n",
       "</table>\n",
       "</div>"
      ],
      "text/plain": [
       "       OP budget (USD)  OL budget (USD)  Funds available  OP Gap/Surplus  \\\n",
       "count              180              179              208             229   \n",
       "mean         121296798         56787100         48532885       -51569183   \n",
       "std          314469672        148975830        180199790       244056205   \n",
       "min             250599            83479                0     -1615100800   \n",
       "25%            5230987          3135300           238976       -34941529   \n",
       "50%           19953378          9182000          2061029        -7307146   \n",
       "75%           75804152         37560084         22490886        -1482752   \n",
       "max         2441639007       1045115516       1560571191      1560571191   \n",
       "\n",
       "       OL Gap/Surplus  \n",
       "count             227  \n",
       "mean          -426685  \n",
       "std         157041673  \n",
       "min        -591549790  \n",
       "25%          -9580514  \n",
       "50%          -2444994  \n",
       "75%              3165  \n",
       "max        1560571191  "
      ]
     },
     "execution_count": 45,
     "metadata": {},
     "output_type": "execute_result"
    }
   ],
   "source": [
    "funding.describe()"
   ]
  },
  {
   "cell_type": "code",
   "execution_count": 34,
   "metadata": {},
   "outputs": [
    {
     "name": "stdout",
     "output_type": "stream",
     "text": [
      "<class 'pandas.core.frame.DataFrame'>\n"
     ]
    }
   ],
   "source": [
    "print(type(funding))"
   ]
  },
  {
   "cell_type": "code",
   "execution_count": 46,
   "metadata": {},
   "outputs": [
    {
     "data": {
      "text/html": [
       "<div>\n",
       "<style scoped>\n",
       "    .dataframe tbody tr th:only-of-type {\n",
       "        vertical-align: middle;\n",
       "    }\n",
       "\n",
       "    .dataframe tbody tr th {\n",
       "        vertical-align: top;\n",
       "    }\n",
       "\n",
       "    .dataframe thead th {\n",
       "        text-align: right;\n",
       "    }\n",
       "</style>\n",
       "<table border=\"1\" class=\"dataframe\">\n",
       "  <thead>\n",
       "    <tr style=\"text-align: right;\">\n",
       "      <th></th>\n",
       "      <th>Region</th>\n",
       "      <th>Operation_Country</th>\n",
       "      <th>OP budget (USD)</th>\n",
       "      <th>OL budget (USD)</th>\n",
       "      <th>Funds available</th>\n",
       "      <th>OP Gap/Surplus</th>\n",
       "      <th>OL Gap/Surplus</th>\n",
       "    </tr>\n",
       "  </thead>\n",
       "  <tbody>\n",
       "    <tr>\n",
       "      <th>0</th>\n",
       "      <td>Africa Overall</td>\n",
       "      <td>Total</td>\n",
       "      <td>NaN</td>\n",
       "      <td>NaN</td>\n",
       "      <td>48551</td>\n",
       "      <td>48551</td>\n",
       "      <td>48551</td>\n",
       "    </tr>\n",
       "    <tr>\n",
       "      <th>1</th>\n",
       "      <td>Africa Overall</td>\n",
       "      <td>Central Africa and Great Lakes</td>\n",
       "      <td>NaN</td>\n",
       "      <td>NaN</td>\n",
       "      <td>48551</td>\n",
       "      <td>48551</td>\n",
       "      <td>48551</td>\n",
       "    </tr>\n",
       "    <tr>\n",
       "      <th>2</th>\n",
       "      <td>Asia and the Pacific</td>\n",
       "      <td>Total</td>\n",
       "      <td>1014984854</td>\n",
       "      <td>571982744</td>\n",
       "      <td>459981873</td>\n",
       "      <td>-555002981</td>\n",
       "      <td>-112000871</td>\n",
       "    </tr>\n",
       "    <tr>\n",
       "      <th>3</th>\n",
       "      <td>Asia and the Pacific</td>\n",
       "      <td>Afghanistan</td>\n",
       "      <td>230310283</td>\n",
       "      <td>170701206</td>\n",
       "      <td>108155141</td>\n",
       "      <td>-122155142</td>\n",
       "      <td>-62546065</td>\n",
       "    </tr>\n",
       "    <tr>\n",
       "      <th>4</th>\n",
       "      <td>Asia and the Pacific</td>\n",
       "      <td>Australia MCO/Australia</td>\n",
       "      <td>5818004</td>\n",
       "      <td>3864151</td>\n",
       "      <td>93897</td>\n",
       "      <td>-5724107</td>\n",
       "      <td>-3770254</td>\n",
       "    </tr>\n",
       "  </tbody>\n",
       "</table>\n",
       "</div>"
      ],
      "text/plain": [
       "                 Region               Operation_Country  OP budget (USD)  \\\n",
       "0        Africa Overall                           Total              NaN   \n",
       "1        Africa Overall  Central Africa and Great Lakes              NaN   \n",
       "2  Asia and the Pacific                           Total       1014984854   \n",
       "3  Asia and the Pacific                     Afghanistan        230310283   \n",
       "4  Asia and the Pacific         Australia MCO/Australia          5818004   \n",
       "\n",
       "   OL budget (USD)  Funds available  OP Gap/Surplus  OL Gap/Surplus  \n",
       "0              NaN            48551           48551           48551  \n",
       "1              NaN            48551           48551           48551  \n",
       "2        571982744        459981873      -555002981      -112000871  \n",
       "3        170701206        108155141      -122155142       -62546065  \n",
       "4          3864151            93897        -5724107        -3770254  "
      ]
     },
     "execution_count": 46,
     "metadata": {},
     "output_type": "execute_result"
    }
   ],
   "source": [
    "funding.head(5)"
   ]
  },
  {
   "cell_type": "code",
   "execution_count": 49,
   "metadata": {},
   "outputs": [
    {
     "name": "stdout",
     "output_type": "stream",
     "text": [
      "                 Region Operation_Country  OP budget (USD)  OL budget (USD)  \\\n",
      "2  Asia and the Pacific             Total       1014984854        571982744   \n",
      "\n",
      "   Funds available  OP Gap/Surplus  OL Gap/Surplus  \n",
      "2        459981873      -555002981      -112000871  \n"
     ]
    }
   ],
   "source": [
    "print(funding[:1])"
   ]
  },
  {
   "cell_type": "code",
   "execution_count": 47,
   "metadata": {},
   "outputs": [
    {
     "name": "stdout",
     "output_type": "stream",
     "text": [
      "The Column Header : ['Region', 'Operation_Country', 'OP budget (USD)', 'OL budget (USD)', 'Funds available', 'OP Gap/Surplus', 'OL Gap/Surplus']\n"
     ]
    }
   ],
   "source": [
    "column_headers = funding.columns.values.tolist()\n",
    "print('The Column Header :', column_headers)"
   ]
  },
  {
   "cell_type": "code",
   "execution_count": 60,
   "metadata": {},
   "outputs": [],
   "source": [
    "for x in funding.index:\n",
    "    if funding.loc[x, \"Region\"] == \"Africa Overall\" :\n",
    "        funding.drop(x, inplace= True)"
   ]
  },
  {
   "cell_type": "code",
   "execution_count": 59,
   "metadata": {},
   "outputs": [
    {
     "name": "stdout",
     "output_type": "stream",
     "text": [
      "                      Region        Operation_Country  OP budget (USD)  \\\n",
      "2       Asia and the Pacific                    Total       1014984854   \n",
      "3       Asia and the Pacific              Afghanistan        230310283   \n",
      "4       Asia and the Pacific  Australia MCO/Australia          5818004   \n",
      "5       Asia and the Pacific    Australia MCO/Overall              NaN   \n",
      "6       Asia and the Pacific               Bangladesh        275000000   \n",
      "..                       ...                      ...              ...   \n",
      "224  West and Central Africa       Senegal MCO/Guinea           250599   \n",
      "225  West and Central Africa      Senegal MCO/Overall              NaN   \n",
      "226  West and Central Africa      Senegal MCO/Senegal         17964259   \n",
      "227  West and Central Africa         Senegal MCO/Togo          5350416   \n",
      "228  West and Central Africa      West Africa Overall              NaN   \n",
      "\n",
      "     OL budget (USD)  Funds available  OP Gap/Surplus  OL Gap/Surplus  \n",
      "2          571982744        459981873      -555002981      -112000871  \n",
      "3          170701206        108155141      -122155142       -62546065  \n",
      "4            3864151            93897        -5724107        -3770254  \n",
      "5                NaN            76056           76056           76056  \n",
      "6          134429639        135879560      -139120440         1449921  \n",
      "..               ...              ...             ...             ...  \n",
      "224           230501            17503         -233096         -212998  \n",
      "225              NaN           149801          149801          149801  \n",
      "226          4030532          3219561       -14744698         -810971  \n",
      "227          5248817          3000000        -2350416        -2248817  \n",
      "228              NaN         49975805       -20783466        23169110  \n",
      "\n",
      "[227 rows x 7 columns]\n"
     ]
    }
   ],
   "source": [
    "print(funding)"
   ]
  }
 ],
 "metadata": {
  "kernelspec": {
   "display_name": "Python 3",
   "language": "python",
   "name": "python3"
  },
  "language_info": {
   "codemirror_mode": {
    "name": "ipython",
    "version": 3
   },
   "file_extension": ".py",
   "mimetype": "text/x-python",
   "name": "python",
   "nbconvert_exporter": "python",
   "pygments_lexer": "ipython3",
   "version": "3.11.9"
  }
 },
 "nbformat": 4,
 "nbformat_minor": 2
}
